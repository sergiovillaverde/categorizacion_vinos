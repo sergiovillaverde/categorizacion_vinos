{
 "cells": [
  {
   "attachments": {},
   "cell_type": "markdown",
   "metadata": {},
   "source": [
    "## Tema 4 - Sistemas de aprendizaje automático\n",
    "### Ejercicio 18\n",
    "### Sergio Villaverde Busto"
   ]
  },
  {
   "cell_type": "markdown",
   "metadata": {},
   "source": []
  },
  {
   "attachments": {},
   "cell_type": "markdown",
   "metadata": {},
   "source": [
    "#### Importamos librerias"
   ]
  },
  {
   "cell_type": "code",
   "execution_count": 22,
   "metadata": {},
   "outputs": [],
   "source": [
    "import numpy as np\n",
    "import pandas as pd\n",
    "import matplotlib.pyplot as plt\n",
    "from sklearn.cluster import KMeans\n",
    "from sklearn.decomposition import PCA\n",
    "from sklearn.metrics import confusion_matrix\n",
    "from sklearn.preprocessing import StandardScaler"
   ]
  },
  {
   "cell_type": "markdown",
   "metadata": {},
   "source": []
  },
  {
   "attachments": {},
   "cell_type": "markdown",
   "metadata": {},
   "source": [
    "#### Cargamos datos"
   ]
  },
  {
   "cell_type": "code",
   "execution_count": 23,
   "metadata": {},
   "outputs": [
    {
     "name": "stdout",
     "output_type": "stream",
     "text": [
      "   ALCOHOL  MALIC   ASH  ALCALINITY  MAGNESIUM  PHENOLS  FLAVANOIDS  \\\n",
      "0    13.51   1.80  2.65        19.0        110     2.35        2.53   \n",
      "1    14.23   1.71  2.43        15.6        127     2.80        3.06   \n",
      "2    13.05   1.65  2.55        18.0         98     2.45        2.43   \n",
      "3    11.64   2.06  2.46        21.6         84     1.95        1.69   \n",
      "4    14.10   2.02  2.40        18.8        103     2.75        2.92   \n",
      "\n",
      "   NONFLAVANOIDS  PROANTHOCYANIS  COLOR   HUE  OD280_OD315  PROLINE  CLASS  \n",
      "0           0.29            1.54   4.20  1.10         2.87     1095      0  \n",
      "1           0.28            2.29   5.64  1.04         3.92     1065      0  \n",
      "2           0.29            1.44   4.25  1.12         2.51     1105      0  \n",
      "3           0.48            1.35   2.80  1.00         2.75      680      1  \n",
      "4           0.32            2.38   6.20  1.07         2.75     1060      0  \n"
     ]
    }
   ],
   "source": [
    "wine_df = pd.read_csv(r\"C:\\Users\\sergi\\OneDrive - Consejería de Educación\\IA\\Sistemas de aprendizaje automático\\Tema 4\\Practicas\\ejercicios_python\\wine.csv\")\n",
    "print(wine_df.head())"
   ]
  },
  {
   "cell_type": "markdown",
   "metadata": {},
   "source": []
  },
  {
   "attachments": {},
   "cell_type": "markdown",
   "metadata": {},
   "source": [
    "#### Comprobamos la existencia de valores nulos\n",
    "En este caso no existe ningún valor nulo."
   ]
  },
  {
   "cell_type": "code",
   "execution_count": 24,
   "metadata": {},
   "outputs": [
    {
     "name": "stdout",
     "output_type": "stream",
     "text": [
      "ALCOHOL           0\n",
      "MALIC             0\n",
      "ASH               0\n",
      "ALCALINITY        0\n",
      "MAGNESIUM         0\n",
      "PHENOLS           0\n",
      "FLAVANOIDS        0\n",
      "NONFLAVANOIDS     0\n",
      "PROANTHOCYANIS    0\n",
      "COLOR             0\n",
      "HUE               0\n",
      "OD280_OD315       0\n",
      "PROLINE           0\n",
      "CLASS             0\n",
      "dtype: int64\n"
     ]
    }
   ],
   "source": [
    "print(wine_df.isnull().sum())"
   ]
  },
  {
   "cell_type": "markdown",
   "metadata": {},
   "source": []
  },
  {
   "attachments": {},
   "cell_type": "markdown",
   "metadata": {},
   "source": [
    "#### Asignamos datos y estandarizamos\n",
    "Quitamos columna CLASS"
   ]
  },
  {
   "cell_type": "code",
   "execution_count": 25,
   "metadata": {},
   "outputs": [
    {
     "name": "stdout",
     "output_type": "stream",
     "text": [
      "         0         1         2         3         4         5         6   \\\n",
      "0  0.648482 -0.206132  1.050996  0.061602  0.616708 -0.317538  0.073951   \n",
      "1  1.464800 -0.306369  0.297960 -0.968748  1.715550  0.504378  0.788696   \n",
      "2  0.126946 -0.373193  0.708707 -0.241442 -0.158945 -0.134890 -0.060907   \n",
      "3 -1.471677  0.083439  0.400647  0.849517 -1.063874 -1.048129 -1.058853   \n",
      "4  1.317409  0.038889  0.195273  0.000994  0.164243  0.413054  0.599895   \n",
      "\n",
      "         7         8         9         10        11        12  \n",
      "0 -0.370231 -0.359419  0.015591  0.260969 -0.156584  0.859870  \n",
      "1 -0.460749  1.050823  0.904896 -0.093182  2.009546  0.775017  \n",
      "2 -0.370231 -0.547451  0.046470  0.379019 -0.899257  0.888155  \n",
      "3  1.349601 -0.716680 -0.849010 -0.329283 -0.404141 -0.313934  \n",
      "4 -0.098679  1.220052  1.250736  0.083893 -0.404141  0.760875  \n"
     ]
    }
   ],
   "source": [
    "reales = wine_df['CLASS']\n",
    "wine_df = wine_df.drop('CLASS', axis=1)\n",
    "x = wine_df.values\n",
    "scaler = StandardScaler()\n",
    "x_scaled = scaler.fit_transform(x)\n",
    "X_norm = pd.DataFrame(x_scaled)\n",
    "print(X_norm.head())"
   ]
  },
  {
   "cell_type": "markdown",
   "metadata": {},
   "source": []
  },
  {
   "attachments": {},
   "cell_type": "markdown",
   "metadata": {},
   "source": [
    "#### Reducimos dimensionalidad con PCA"
   ]
  },
  {
   "cell_type": "code",
   "execution_count": 26,
   "metadata": {},
   "outputs": [
    {
     "name": "stdout",
     "output_type": "stream",
     "text": [
      "            0         1         2         3         4         5         6  \\\n",
      "0    0.740347 -0.392848  0.946232 -0.203852  0.319815 -0.825455 -0.371211   \n",
      "1    3.146868 -0.011732 -0.331350  0.251696  0.816988 -0.649828 -0.411539   \n",
      "2    0.174355 -0.928234  0.698676 -0.230295 -0.155088 -0.283576 -0.013799   \n",
      "3   -2.707852  0.568807  0.857397 -0.381412 -0.473262 -0.001508  0.146163   \n",
      "4    1.904976 -0.279794  0.383001 -0.367270  0.273145  0.914048  0.162824   \n",
      "..        ...       ...       ...       ...       ...       ...       ...   \n",
      "117  0.297525  1.378133 -1.058263 -1.827798  0.502117  0.192696 -0.403843   \n",
      "118 -1.454815 -0.741898 -1.237264  0.696552 -1.744894 -0.910743 -0.223418   \n",
      "119  4.152910 -1.605703  1.289241 -0.495468 -0.663708  0.857619  0.179141   \n",
      "120 -1.311597 -0.848628 -0.290757  1.375055 -0.234758 -0.703489 -0.486241   \n",
      "121 -1.395543  0.222575 -1.184865  0.572232 -0.886128 -0.640975 -0.469950   \n",
      "\n",
      "            7         8         9  \n",
      "0   -0.342091 -0.275200 -0.473919  \n",
      "1   -0.198225  1.484517  0.433662  \n",
      "2   -0.183185 -0.725650 -0.848998  \n",
      "3   -0.355736  0.299547 -0.443404  \n",
      "4   -0.808805 -0.431365  0.373901  \n",
      "..        ...       ...       ...  \n",
      "117  0.660178 -0.254570  0.039074  \n",
      "118 -0.270972  0.203191  0.765550  \n",
      "119  0.053005 -0.694892  0.289767  \n",
      "120  0.148073  0.593255 -0.052394  \n",
      "121 -0.563317  0.556521  0.689710  \n",
      "\n",
      "[122 rows x 10 columns]\n"
     ]
    }
   ],
   "source": [
    "pca = PCA(n_components=0.95)\n",
    "reduced = pd.DataFrame(pca.fit_transform(X_norm))\n",
    "print(reduced)"
   ]
  },
  {
   "cell_type": "markdown",
   "metadata": {},
   "source": []
  },
  {
   "attachments": {},
   "cell_type": "markdown",
   "metadata": {},
   "source": [
    "#### Modelo K-Means y predicción"
   ]
  },
  {
   "cell_type": "code",
   "execution_count": 27,
   "metadata": {},
   "outputs": [
    {
     "name": "stdout",
     "output_type": "stream",
     "text": [
      "[0 0 0 1 0 1 0 1 1 0 1 0 0 0 1 0 1 0 0 1 0 0 0 0 0 0 0 0 0 1 1 1 0 1 0 0 0\n",
      " 0 0 1 0 1 0 1 0 1 1 0 0 1 1 0 1 1 0 1 1 1 1 1 1 1 0 1 0 1 0 1 0 0 1 0 1 1\n",
      " 0 1 0 0 1 1 1 1 0 1 1 1 0 0 1 1 1 0 1 1 1 1 1 0 0 0 0 0 0 0 0 0 1 1 1 0 1\n",
      " 0 1 1 0 0 1 0 1 0 1 1]\n"
     ]
    }
   ],
   "source": [
    "kmeans = KMeans(n_clusters=2)\n",
    "kmeans = kmeans.fit(reduced)\n",
    "labels = kmeans.predict(reduced)\n",
    "print(labels)"
   ]
  },
  {
   "cell_type": "markdown",
   "metadata": {},
   "source": []
  },
  {
   "attachments": {},
   "cell_type": "markdown",
   "metadata": {},
   "source": [
    "#### Matriz de confusión"
   ]
  },
  {
   "cell_type": "code",
   "execution_count": 28,
   "metadata": {},
   "outputs": [
    {
     "data": {
      "image/png": "[encoded data removed]",
      "text/plain": [
       "<Figure size 640x480 with 1 Axes>"
      ]
     },
     "metadata": {},
     "output_type": "display_data"
    }
   ],
   "source": [
    "cm = confusion_matrix(reales, labels)\n",
    "plt.imshow(cm, interpolation='none', cmap=\"Blues\")\n",
    "for (i, j), z in np.ndenumerate(cm):\n",
    "    plt.text(j, i, z, ha='center', va=\"center\")\n",
    "plt.xlabel('Predichas')\n",
    "plt.ylabel('Reales')\n",
    "plt.show()"
   ]
  }
 ],
 "metadata": {
  "kernelspec": {
   "display_name": "Python 3",
   "language": "python",
   "name": "python3"
  },
  "language_info": {
   "codemirror_mode": {
    "name": "ipython",
    "version": 3
   },
   "file_extension": ".py",
   "mimetype": "text/x-python",
   "name": "python",
   "nbconvert_exporter": "python",
   "pygments_lexer": "ipython3",
   "version": "3.11.0"
  },
  "orig_nbformat": 4,
  "vscode": {
   "interpreter": {
    "hash": "e4d6381d3dcd7460b91240130f05b9ffcc3352414e1d17fef4fc992415ab6c83"
   }
  }
 },
 "nbformat": 4,
 "nbformat_minor": 2
}
